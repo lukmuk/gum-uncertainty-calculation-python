{
 "cells": [
  {
   "cell_type": "markdown",
   "id": "fc605ebc-a5d6-49b9-9b79-e3b6ff988655",
   "metadata": {},
   "source": [
    "# GUM Uncertainty Calculation with Python\n",
    "\n",
    "Exploring uncertainty calculation and testing examples in the official GUM (**G**uide to the expression of **u**ncertainty in **m**easurement) document ([https://doi.org/10.59161/JCGM100-2008E](https://doi.org/10.59161/JCGM100-2008E)) using Python, particularly the [uncertainties](https://pythonhosted.org/uncertainties/index.html) package.\n",
    "\n",
    "Packages installed (you may change `mamba` to `conda`):  \n",
    "```\n",
    "mamba install -c conda-forge jupyterlab numpy matplotlib scienceplots watermark ipympl uncertainties scipy\n",
    "```\n",
    "Alternatively, use the provided `yml` file and change the `ENV_NAME` to your desire, e.g. `gum`:\n",
    "\n",
    "```\n",
    "mamba env create -n ENV_NAME -f environment.yml\n",
    "````\n",
    "\n",
    "This notebook should work top down by running each cell interactively. Alternatively, use \"Run All Cells\" once and read through the document; you can still play with the values in the code cells.\n",
    "\n",
    "This notebook is based on this [basic template](https://github.com/lukmuk/jupyter-scientific-notebook-templates)."
   ]
  },
  {
   "cell_type": "markdown",
   "id": "0a8acdbc-c584-4a7e-b28e-0ba0f0c4235b",
   "metadata": {},
   "source": [
    "### Content\n",
    "- [Notebook Settings](#Notebook-Settings)\n",
    "- [Package Imports](#Package-Imports)\n",
    "- [4.4.3](#4.4.3)\n",
    "- [G.4.1](#G.4.1)\n",
    "- [5.1.5](#5.1.5)\n",
    "- [5.2.2](#5.2.2)\n",
    "- [H.1](#H.1)\n",
    "- [H.2](#H.2)\n",
    "- [Export](#Export)\n",
    "- [Markdown Snippets](#Markdown-Snippets)"
   ]
  },
  {
   "cell_type": "markdown",
   "id": "9e29cfe1-395c-4c97-8726-a15271d51382",
   "metadata": {},
   "source": [
    "### Notebook Settings\n",
    "[[Top](#Content)]"
   ]
  },
  {
   "cell_type": "code",
   "execution_count": 1,
   "id": "f6314573-3d86-4bc7-8937-192c91f6a218",
   "metadata": {},
   "outputs": [],
   "source": [
    "# Choose plotting backend (widget. qt. inline. ...)\n",
    "#%matplotlib widget \n",
    "\n",
    "# Use watermark package to document package versions and hardware info\n",
    "%load_ext watermark\n",
    "\n",
    "# Other metadata\n",
    "author = \"Lukas Grünewald\""
   ]
  },
  {
   "cell_type": "markdown",
   "id": "94c0a3e8-e042-4565-8bec-8f5d6ffdb750",
   "metadata": {},
   "source": [
    "### Package Imports\n",
    "[[Top](#Content)]"
   ]
  },
  {
   "cell_type": "code",
   "execution_count": 2,
   "id": "e914843f-ec2d-4791-9c9a-4c2497e96720",
   "metadata": {},
   "outputs": [],
   "source": [
    "import numpy as np\n",
    "import matplotlib.pyplot as plt\n",
    "import glob\n",
    "import os\n",
    "from pathlib import Path\n",
    "\n",
    "import scipy.stats as st\n",
    "import uncertainties as uc\n",
    "\n",
    "import scienceplots # https://github.com/garrettj403/SciencePlots/wiki/Gallery\n",
    "plt.style.use(['science', 'notebook'])"
   ]
  },
  {
   "cell_type": "code",
   "execution_count": 3,
   "id": "d6377013-b661-4bc6-97f0-662665d88ef1",
   "metadata": {},
   "outputs": [
    {
     "name": "stdout",
     "output_type": "stream",
     "text": [
      "Author: Lukas Grünewald\n",
      "\n",
      "Last updated: 2024-11-15\n",
      "\n",
      "Python implementation: CPython\n",
      "Python version       : 3.12.7\n",
      "IPython version      : 8.29.0\n",
      "\n",
      "conda environment: gum\n",
      "\n",
      "Compiler    : MSC v.1941 64 bit (AMD64)\n",
      "OS          : Windows\n",
      "Release     : 10\n",
      "Machine     : AMD64\n",
      "Processor   : Intel64 Family 6 Model 158 Stepping 13, GenuineIntel\n",
      "CPU cores   : 16\n",
      "Architecture: 64bit\n",
      "\n",
      "matplotlib   : 3.9.2\n",
      "scienceplots : 2.1.1\n",
      "numpy        : 2.1.3\n",
      "uncertainties: 3.2.2\n",
      "scipy        : 1.14.1\n",
      "\n"
     ]
    }
   ],
   "source": [
    "%watermark -d --iv -v -u -m -co -a \"$author\""
   ]
  },
  {
   "cell_type": "markdown",
   "id": "3942e642-7f8d-4d5b-8a67-2c6a6cbc61d5",
   "metadata": {},
   "source": [
    "### 4.4.3\n",
    "[[Top](#Content)]"
   ]
  },
  {
   "cell_type": "code",
   "execution_count": 4,
   "id": "829a8e77-2930-40b2-b6b5-df0d26d0f631",
   "metadata": {},
   "outputs": [],
   "source": [
    "# Temperature data in degree Celsius from Table 1\n",
    "t = np.array([96.90,\n",
    "              98.18, 98.25,\n",
    "              98.61, 99.03, 99.49,\n",
    "              99.56, 99.74, 99.89, 100.07, 100.33, 100.42,\n",
    "              100.68, 100.95, 101.11, 101.20,\n",
    "              101.57, 101.84, 102.36,\n",
    "              102.72],\n",
    "            )"
   ]
  },
  {
   "cell_type": "code",
   "execution_count": 5,
   "id": "5c230dd9-3a72-497a-8cf9-ecdf337ba1d6",
   "metadata": {},
   "outputs": [
    {
     "data": {
      "text/plain": [
       "np.float64(100.145)"
      ]
     },
     "execution_count": 5,
     "metadata": {},
     "output_type": "execute_result"
    }
   ],
   "source": [
    "# Mean / arithmetic average as best estimation\n",
    "t_mean = np.mean(t)\n",
    "t_mean"
   ]
  },
  {
   "cell_type": "code",
   "execution_count": 6,
   "id": "4d32c5ec-78f1-4e52-b8de-9d8e7cf22d60",
   "metadata": {},
   "outputs": [
    {
     "data": {
      "text/plain": [
       "np.float64(1.4888444830595435)"
      ]
     },
     "execution_count": 6,
     "metadata": {},
     "output_type": "execute_result"
    }
   ],
   "source": [
    "# Sample standard deviation\n",
    "t_std = np.std(t, ddof=1) # ddof = 1 is required for Bessel's correction/reduction of degrees of freedom by 1\n",
    "t_std"
   ]
  },
  {
   "cell_type": "markdown",
   "id": "727f2fbf-1f8c-4176-865c-831f4743b81a",
   "metadata": {},
   "source": [
    "<div class=\"alert alert-block alert-danger\"><b>Beware:</b> For numpy's sample standard deviation function `np.std()`, we need to specify `ddof=1`.</div>"
   ]
  },
  {
   "cell_type": "code",
   "execution_count": 7,
   "id": "09cb4e6d-0ea1-443e-bcd3-a4d4cef0ab71",
   "metadata": {},
   "outputs": [
    {
     "data": {
      "text/plain": [
       "np.float64(0.3329157472046673)"
      ]
     },
     "execution_count": 7,
     "metadata": {},
     "output_type": "execute_result"
    }
   ],
   "source": [
    "# Experimental standard deviation of the mean\n",
    "n = t.size\n",
    "\n",
    "t_u = t_std/np.sqrt(n)\n",
    "t_u"
   ]
  },
  {
   "cell_type": "code",
   "execution_count": 8,
   "id": "096f588a-c65b-4797-b249-1847fbd4d140",
   "metadata": {},
   "outputs": [
    {
     "data": {
      "text/plain": [
       "20"
      ]
     },
     "execution_count": 8,
     "metadata": {},
     "output_type": "execute_result"
    }
   ],
   "source": [
    "# where we used n measurements\n",
    "n"
   ]
  },
  {
   "cell_type": "code",
   "execution_count": 9,
   "id": "b4f903ee-7b30-469e-9194-38763374b5f9",
   "metadata": {},
   "outputs": [
    {
     "data": {
      "text/plain": [
       "np.float64(0.3329157472046673)"
      ]
     },
     "execution_count": 9,
     "metadata": {},
     "output_type": "execute_result"
    }
   ],
   "source": [
    "# Same thing with scipy.stats.sem\n",
    "# Notice that this function automatically uses the sample standard deviation whereas ddof=1 is required for np.std()\n",
    "t_u = st.sem(t)\n",
    "t_u"
   ]
  },
  {
   "cell_type": "markdown",
   "id": "46839ccf-46da-4cf5-8f89-bd752ae527d9",
   "metadata": {},
   "source": [
    "<div class=\"alert alert-block alert-info\"><b>Tip:</b> As noted in <b>B.2.17 Note 3</b>: The correct term  is actually <b>\"Experimental standard deviation of the mean\"</b> which is often incorrectly called \"standard error of the mean\". This is actually the case for the `scipy.stats.sem` function.</div>"
   ]
  },
  {
   "cell_type": "markdown",
   "id": "dc24100e-3f1d-4d58-816f-c9d245a58a04",
   "metadata": {},
   "source": [
    "**Expanded uncertainty (normal distribution)**   \n",
    "$U(t) = k_p\\cdot u(t)$\n",
    "\n",
    "See also **Table G.1**."
   ]
  },
  {
   "cell_type": "markdown",
   "id": "fcc19059-2589-4e79-a106-1e2d82c57563",
   "metadata": {},
   "source": [
    "For a given level of confidence $p$, we can caculate the coverage factor $k_p$:"
   ]
  },
  {
   "cell_type": "code",
   "execution_count": 10,
   "id": "3cbfdd5f-a3bf-48a3-8483-8cef0aa0c621",
   "metadata": {},
   "outputs": [
    {
     "data": {
      "text/plain": [
       "np.float64(2.5758293035489004)"
      ]
     },
     "execution_count": 10,
     "metadata": {},
     "output_type": "execute_result"
    }
   ],
   "source": [
    "# We can define a confidence level p and find the coverage factor kp\n",
    "# Here exemplary for a normal distribution\n",
    "# https://www.pythonclear.com/modules/norm-ppf/\n",
    "p = 0.99\n",
    "\n",
    "kp = st.norm.ppf((1 + p)/2)\n",
    "kp"
   ]
  },
  {
   "cell_type": "markdown",
   "id": "d73d1342-8a2c-4f24-9de4-e5351757fcf7",
   "metadata": {},
   "source": [
    "See also [here](https://www.geo.fu-berlin.de/en/v/soga-py/Basics-of-statistics/Continous-Random-Variables/The-Standard-Normal-Distribution/Determining-the-z-Value/index.html) for a very nice explanation using scipy."
   ]
  },
  {
   "cell_type": "markdown",
   "id": "0f7ffa63-a746-4df0-81dc-b595218fbdf3",
   "metadata": {},
   "source": [
    "We can calculate the expanded uncertainty:"
   ]
  },
  {
   "cell_type": "code",
   "execution_count": 11,
   "id": "dfe757bb-4135-401d-a7ae-7719539be93b",
   "metadata": {},
   "outputs": [
    {
     "data": {
      "text/plain": [
       "np.float64(0.85753413726266)"
      ]
     },
     "execution_count": 11,
     "metadata": {},
     "output_type": "execute_result"
    }
   ],
   "source": [
    "t_U = t_u * kp\n",
    "t_U"
   ]
  },
  {
   "cell_type": "markdown",
   "id": "84a9a08d-27a5-4f3c-aebc-8740fcc6f305",
   "metadata": {},
   "source": [
    "Vice versa, as stated in **4.3.4**: The formula `st.norm.ppf((1 + p)/2)` can be used when a measurement instrument's uncertainty is stated as $p$ level of confidence to find the standard uncertainty $u$ from the expanded uncertainty $U$ by dividing with $k_p$.  \n",
    "That is, if no other information is given, we can assume a normal distribution. "
   ]
  },
  {
   "cell_type": "code",
   "execution_count": 12,
   "id": "a2913edf-db52-40df-bb4c-228c460b5b92",
   "metadata": {},
   "outputs": [
    {
     "name": "stdout",
     "output_type": "stream",
     "text": [
      "The 99.00% confidence interval of the mean 100.14 is (99.29, 101.00) assuming a normal distribution.\n"
     ]
    }
   ],
   "source": [
    "# Find the lower and upper bounds of the confidence interval\n",
    "lower_bound = t_mean - t_U\n",
    "upper_bound = t_mean + t_U\n",
    "# Print the confidence interval\n",
    "print(f\"The {p*100:.2f}% confidence interval of the mean {t_mean:.2f} is ({lower_bound:.2f}, {upper_bound:.2f}) assuming a normal distribution.\")"
   ]
  },
  {
   "cell_type": "markdown",
   "id": "67c7968b-ea44-4351-af03-f5a93545b5f2",
   "metadata": {},
   "source": [
    "We can invert the process and find the confidence level $p$ from a given $k_p$ (i.e., the area under the curve of a probability density function between -$k_p$ and $k_p$):"
   ]
  },
  {
   "cell_type": "code",
   "execution_count": 13,
   "id": "8d7331a3-5aee-457c-af24-34ee5fbf5890",
   "metadata": {},
   "outputs": [
    {
     "data": {
      "text/plain": [
       "np.float64(0.950004209703559)"
      ]
     },
     "execution_count": 13,
     "metadata": {},
     "output_type": "execute_result"
    }
   ],
   "source": [
    "# We can also define kp and find the confidence level\n",
    "# Again, with normal distribution as an example\n",
    "kp = 1.96\n",
    "\n",
    "p = st.norm.cdf(kp) - st.norm.cdf(-kp)\n",
    "p"
   ]
  },
  {
   "cell_type": "markdown",
   "id": "8c5cc44b-add9-4624-92c6-afbd83eb35ec",
   "metadata": {},
   "source": [
    "A good explanation about the interpretation of confidence intervalls: https://www.youtube.com/watch?v=5q2ac412hv4"
   ]
  },
  {
   "cell_type": "markdown",
   "id": "36eb1e97-6beb-47d3-982c-1760bfdaa477",
   "metadata": {},
   "source": [
    "**Expanded uncertainty (Student's $t$ distribution)** \n",
    "\n",
    "For a small number of measurements, it may be more appropriate to use the $t$ distribution.  \n",
    "For large $n$, the [$t$ distribution](https://en.wikipedia.org/wiki/Student%27s_t-distribution) approximates the normal distribution. Therefore, it should be valid for small *and* large sample sizes $n$ (?).\n",
    "\n",
    "$U(t) = k_p\\cdot u(t) \\approx t_p(v)\\cdot u(t)$ with the effective degrees of freedom $v$.  \n",
    "For $v\\rightarrow\\infty$ we get $t_p(v) \\rightarrow k_p$.  \n",
    "\n",
    "See also **Table G.2** in the GUM document."
   ]
  },
  {
   "cell_type": "code",
   "execution_count": 14,
   "id": "bda0d4a3-7232-4d1e-a78b-3246145b1292",
   "metadata": {},
   "outputs": [
    {
     "data": {
      "text/plain": [
       "np.float64(2.860934606449914)"
      ]
     },
     "execution_count": 14,
     "metadata": {},
     "output_type": "execute_result"
    }
   ],
   "source": [
    "# We can define a confidence level p and find the coverage factor kp = tp\n",
    "# Here exemplary for a Student's t distribution for v degrees of freedom\n",
    "p = 0.99\n",
    "v = n-1\n",
    "\n",
    "tp = st.t.ppf((1 + p)/2, df=v)\n",
    "tp"
   ]
  },
  {
   "cell_type": "markdown",
   "id": "ec67aded-e730-4e47-8cf6-d07b06038c94",
   "metadata": {},
   "source": [
    "See also [here](https://www.geo.fu-berlin.de/en/v/soga-py/Basics-of-statistics/Continous-Random-Variables/Students-t-Distribution/Students-t-Distribution-in-Python/index.html), similar to above."
   ]
  },
  {
   "cell_type": "code",
   "execution_count": 15,
   "id": "2e5b5020-b878-484f-b3b5-5f7d13d425ca",
   "metadata": {},
   "outputs": [
    {
     "data": {
      "text/plain": [
       "np.float64(0.952450182209964)"
      ]
     },
     "execution_count": 15,
     "metadata": {},
     "output_type": "execute_result"
    }
   ],
   "source": [
    "t_U = t_u * tp\n",
    "t_U"
   ]
  },
  {
   "cell_type": "code",
   "execution_count": 16,
   "id": "658efa79-8887-43c5-9eab-dd792edfd910",
   "metadata": {},
   "outputs": [
    {
     "name": "stdout",
     "output_type": "stream",
     "text": [
      "The 99.00% confidence interval of the mean 100.14 is (99.19, 101.10) assuming a Student's t distribution with 19 effective degrees of freedom.\n"
     ]
    }
   ],
   "source": [
    "# Find the lower and upper bounds of the confidence interval\n",
    "lower_bound = t_mean - t_U\n",
    "upper_bound = t_mean + t_U\n",
    "# Print the confidence interval\n",
    "print(f\"The {p*100:.2f}% confidence interval of the mean {t_mean:.2f} is ({lower_bound:.2f}, {upper_bound:.2f}) assuming a Student's t distribution with {n-1} effective degrees of freedom.\")"
   ]
  },
  {
   "cell_type": "markdown",
   "id": "540c530d-61ce-42a0-bef1-6842b00c23ad",
   "metadata": {},
   "source": [
    "As for the normal distribution, we can invert the process and find the confidence level $p$ from a given $t_p$ (i.e., the area under the curve of a probability density function between -$t_p$ and $t_p$):"
   ]
  },
  {
   "cell_type": "code",
   "execution_count": 17,
   "id": "c24e3168-f1e8-47c4-b579-49c60373f172",
   "metadata": {},
   "outputs": [
    {
     "data": {
      "text/plain": [
       "np.float64(0.9899795103086788)"
      ]
     },
     "execution_count": 17,
     "metadata": {},
     "output_type": "execute_result"
    }
   ],
   "source": [
    "# We can also define tp and find the confidence level\n",
    "tp = 2.86\n",
    "\n",
    "p = st.t.cdf(tp, df=v) - st.t.cdf(-tp, df=v)\n",
    "p"
   ]
  },
  {
   "cell_type": "markdown",
   "id": "93962c45-17d3-4be1-af41-2aa5a9c2c930",
   "metadata": {},
   "source": [
    "### G.4.1\n",
    "[[Top](#Content)]\n",
    "\n",
    "For a measurand calculated from multiple measured properties, the effective degrees of freedom $v_{eff}$ of the measurand can be calculated  from **Welch-Satterthwaite** formula (assumes uncorrelated variables).  \n",
    "The $v_{eff}$ is then used to calculate the coverage factor for the confidence intervall for a distribution (often normal or $t$).\n"
   ]
  },
  {
   "cell_type": "code",
   "execution_count": 18,
   "id": "6e830aab-a1f1-41fe-b08b-3dc76db6c274",
   "metadata": {},
   "outputs": [],
   "source": [
    "# page 74 example\n",
    "x1_u_rel = 0.25\n",
    "x2_u_rel = 0.57\n",
    "x3_u_rel = 0.82\n",
    "\n",
    "x1_n = 10\n",
    "x2_n = 5\n",
    "x3_n = 15\n",
    "\n",
    "x_u_rel = np.array([x1_u_rel, x2_u_rel, x3_u_rel])\n",
    "x_n = np.array([x1_n, x2_n, x3_n])\n",
    "\n",
    "#top = (x1_u_rel)**2 + (x2_u_rel)**2 + (x3_u_rel)**2\n",
    "#top = np.sqrt(np.sum(x_u_rel**2))**4\n",
    "#bot = np.sum(x_u_rel**4/(x_n-1))"
   ]
  },
  {
   "cell_type": "code",
   "execution_count": 19,
   "id": "6e48daa7-a396-45e9-9a3a-857e26f4e44b",
   "metadata": {},
   "outputs": [
    {
     "data": {
      "text/plain": [
       "np.float64(18.998742314267957)"
      ]
     },
     "execution_count": 19,
     "metadata": {},
     "output_type": "execute_result"
    }
   ],
   "source": [
    "v_eff = np.sum(x_u_rel**2)**2 / np.sum(x_u_rel**4/(x_n-1))\n",
    "v_eff"
   ]
  },
  {
   "cell_type": "code",
   "execution_count": 20,
   "id": "3876069b-578a-4357-8e08-fa8fab56cead",
   "metadata": {},
   "outputs": [],
   "source": [
    "# Welch-Satterthwaite formula, uncorrelated\n",
    "def v_eff(u, v, return_int = True):\n",
    "    if return_int:\n",
    "        return int(np.floor(np.sum(u**2)**2/np.sum(u**4/v)))\n",
    "    else:\n",
    "        return np.sum(u**2)**2/np.sum(u**4/v)"
   ]
  },
  {
   "cell_type": "markdown",
   "id": "40e4818d-552a-42a1-a67d-939511cac3ca",
   "metadata": {},
   "source": [
    "<div class=\"alert alert-block alert-info\"><b>Tip:</b> For the correlated case, see <a href=\"http://www.isgmax.com/Articles_Papers/Welch-Satterthwaite%20for%20Correlated%20Errors.pdf\">here</a> (<i>A Welch-Satterthwaite Relation for Correlated Errors</i>, by Dr. Howard Castrup).</div>"
   ]
  },
  {
   "cell_type": "markdown",
   "id": "e7a312cc-8aef-4d37-a102-3c52bb84d30e",
   "metadata": {},
   "source": [
    "### 5.1.5\n",
    "[[Top](#Content)]  \n",
    "\n",
    "**Uncorrelated** input quantities.\n",
    "\n",
    "Here we use the [uncertainties](https://pythonhosted.org/uncertainties/index.html) package."
   ]
  },
  {
   "cell_type": "code",
   "execution_count": 21,
   "id": "413a4450-68bc-407d-aa16-552f251c1102",
   "metadata": {},
   "outputs": [],
   "source": [
    "# all values in V\n",
    "# measurand M = V + dV with the uncertainties u\n",
    "# We replaced original V for M here\n",
    "V = 0.928571\n",
    "V_u = 12e-6\n",
    "\n",
    "dV = 0\n",
    "dV_u = 8.7e-6"
   ]
  },
  {
   "cell_type": "code",
   "execution_count": 22,
   "id": "cd304f04-b077-4a4b-a149-ff27fd6065ee",
   "metadata": {},
   "outputs": [],
   "source": [
    "from uncertainties import ufloat"
   ]
  },
  {
   "cell_type": "code",
   "execution_count": 23,
   "id": "2eb9bc5e-ffc8-4e31-934a-9cbb1a2306ef",
   "metadata": {},
   "outputs": [],
   "source": [
    "Vu = ufloat(V, V_u)\n",
    "dVu = ufloat(dV, dV_u)"
   ]
  },
  {
   "cell_type": "code",
   "execution_count": 24,
   "id": "1cd042d7-cb05-40a0-a232-4ee8fcb0c722",
   "metadata": {},
   "outputs": [],
   "source": [
    "M = Vu + dVu"
   ]
  },
  {
   "cell_type": "code",
   "execution_count": 25,
   "id": "79d772af-7655-4842-9d6a-43ee1254ad85",
   "metadata": {},
   "outputs": [
    {
     "data": {
      "text/plain": [
       "0.928571+/-1.4821943192442752e-05"
      ]
     },
     "execution_count": 25,
     "metadata": {},
     "output_type": "execute_result"
    }
   ],
   "source": [
    "M"
   ]
  },
  {
   "cell_type": "code",
   "execution_count": 26,
   "id": "73c105b0-68fd-4995-af0b-3ab8fa15fbfb",
   "metadata": {},
   "outputs": [
    {
     "name": "stdout",
     "output_type": "stream",
     "text": [
      "Automatic number of digits on the uncertainty using `uncertainties` package: M = (0.928571+/-0.000015) V\n"
     ]
    }
   ],
   "source": [
    "print(f'Automatic number of digits on the uncertainty using `uncertainties` package: M = ({format(M)}) V')"
   ]
  },
  {
   "cell_type": "code",
   "execution_count": 27,
   "id": "d3d711f7-c5a9-4811-be68-a42ed8e8ada4",
   "metadata": {},
   "outputs": [
    {
     "name": "stdout",
     "output_type": "stream",
     "text": [
      "Define number of digits d using `:.du`, e.g. d=3: M = (0.9285710+/-0.0000148) V\n"
     ]
    }
   ],
   "source": [
    "print('Define number of digits d using `:.du`, e.g. d=3: M = ({:.3u}) V'.format(M))"
   ]
  },
  {
   "cell_type": "code",
   "execution_count": 28,
   "id": "bbf5fe37-73af-4e04-b3b3-2654743177a2",
   "metadata": {},
   "outputs": [
    {
     "name": "stdout",
     "output_type": "stream",
     "text": [
      "The combined standard uncertainty u_c(M) is around 15 µV.\n"
     ]
    }
   ],
   "source": [
    "print(f\"The combined standard uncertainty u_c(M) is around {M.s*1e6:.0f} µV.\")"
   ]
  },
  {
   "cell_type": "code",
   "execution_count": 29,
   "id": "19dc6339-7407-4855-92df-4d1161ed7623",
   "metadata": {},
   "outputs": [
    {
     "data": {
      "text/plain": [
       "np.float64(1.4821943192442752e-05)"
      ]
     },
     "execution_count": 29,
     "metadata": {},
     "output_type": "execute_result"
    }
   ],
   "source": [
    "# This is the same value as M.s\n",
    "np.sqrt(12e-6**2 + 8.7e-6**2)"
   ]
  },
  {
   "cell_type": "markdown",
   "id": "d0ac42f5-a203-4fd1-b3cb-76a8b527a87d",
   "metadata": {},
   "source": [
    "### 5.2.2\n",
    "[[Top](#Content)]  \n",
    "\n",
    "**Correlated** input quantities.\n",
    "\n",
    "Here we use the [uncertainties](https://pythonhosted.org/uncertainties/index.html) package."
   ]
  },
  {
   "cell_type": "code",
   "execution_count": 30,
   "id": "7c306d11-39be-482f-84b9-acc1141fcd51",
   "metadata": {},
   "outputs": [],
   "source": [
    "from uncertainties import ufloat"
   ]
  },
  {
   "cell_type": "code",
   "execution_count": 31,
   "id": "e50e0812-ccae-4e7c-93ea-82b295efd8d9",
   "metadata": {},
   "outputs": [],
   "source": [
    "Rs = ufloat(1000, 100e-3) # calibration resistor with uncertainty\n",
    "\n",
    "# the calibration factor a is approximately 1, see F.1.2.3, example 2 - \n",
    "# but now Ri depends on Rs and the error is considered in further calculations\n",
    "a = 1 \n",
    "Ri = a*Rs # we assume each of the ten resistors is calibrated using Rs"
   ]
  },
  {
   "cell_type": "code",
   "execution_count": 32,
   "id": "a6db1349-394c-4137-a428-6e0965b4e27e",
   "metadata": {},
   "outputs": [
    {
     "data": {
      "text/plain": [
       "1000.0+/-0.1"
      ]
     },
     "execution_count": 32,
     "metadata": {},
     "output_type": "execute_result"
    }
   ],
   "source": [
    "Ri"
   ]
  },
  {
   "cell_type": "code",
   "execution_count": 33,
   "id": "1aa2583a-c45d-4b76-a107-5c8ff57d23db",
   "metadata": {},
   "outputs": [],
   "source": [
    "# Calculate Rref from ten Ri in series\n",
    "Rref = 10*Ri"
   ]
  },
  {
   "cell_type": "code",
   "execution_count": 34,
   "id": "3357c3d3-569b-477b-b27b-a6f3e0f48e19",
   "metadata": {},
   "outputs": [
    {
     "name": "stdout",
     "output_type": "stream",
     "text": [
      "Rref = (10000.0+/-1.0) Ohm\n"
     ]
    }
   ],
   "source": [
    "print(f'Rref = ({format(Rref)}) Ohm')"
   ]
  },
  {
   "cell_type": "markdown",
   "id": "0939ed36-1d52-45d3-8be2-134335096188",
   "metadata": {},
   "source": [
    "Note: This uncertainty of *correlated* variables $R_i$ is different than taking the root of the summed square of 100 mV errors (= assumption of *uncorrelated* $R_i$)"
   ]
  },
  {
   "cell_type": "code",
   "execution_count": 35,
   "id": "ee360578-72a4-4826-9ab6-5a8739f04506",
   "metadata": {},
   "outputs": [
    {
     "data": {
      "text/plain": [
       "np.float64(0.31622776601683794)"
      ]
     },
     "execution_count": 35,
     "metadata": {},
     "output_type": "execute_result"
    }
   ],
   "source": [
    "# Note: This uncertainty of correlated variables Ri is different than taking the root of the summed square of 100 mV errors (= uncorrelated Ri)\n",
    "np.sqrt((100e-3**2) * 10) # Ohm"
   ]
  },
  {
   "cell_type": "markdown",
   "id": "1446a6c3-6b03-4b9f-8308-9f8201766075",
   "metadata": {},
   "source": [
    "which we could have achieved by defining different Ri, e.g. for 2:"
   ]
  },
  {
   "cell_type": "code",
   "execution_count": 36,
   "id": "0b0fa8e9-7771-4975-80c5-2183a49b1e59",
   "metadata": {},
   "outputs": [
    {
     "data": {
      "text/plain": [
       "2000.0+/-0.14142135623730953"
      ]
     },
     "execution_count": 36,
     "metadata": {},
     "output_type": "execute_result"
    }
   ],
   "source": [
    "# Uncorrelated\n",
    "Ri0 = ufloat(1000, 100e-3)\n",
    "Ri1 = ufloat(1000, 100e-3)\n",
    "\n",
    "Ri0 + Ri1"
   ]
  },
  {
   "cell_type": "code",
   "execution_count": 37,
   "id": "2b8a62e9-d14d-4a2b-b43c-2fa82b84c78e",
   "metadata": {},
   "outputs": [
    {
     "data": {
      "text/plain": [
       "2000.0+/-0.2"
      ]
     },
     "execution_count": 37,
     "metadata": {},
     "output_type": "execute_result"
    }
   ],
   "source": [
    "# Correlated\n",
    "2*Ri0"
   ]
  },
  {
   "cell_type": "markdown",
   "id": "7440932f-44e3-478e-9f9d-26e6ffebfaac",
   "metadata": {},
   "source": [
    "### H.1\n",
    "[[Top](#Content)]  \n",
    "\n",
    "Example for **uncorrelated** input variables."
   ]
  },
  {
   "cell_type": "markdown",
   "id": "3fb8dd24-87fe-4ed7-9daf-80751f57e0bf",
   "metadata": {},
   "source": [
    "We can collect all values and uncertainties (**Table H.1**) and calculate the desired property: "
   ]
  },
  {
   "cell_type": "code",
   "execution_count": 38,
   "id": "8320dcaf-0826-4d85-b8ad-e1ea360866a5",
   "metadata": {},
   "outputs": [],
   "source": [
    "lSu = ufloat(50.000623e-3, 25e-9)\n",
    "du = ufloat(215e-9, 9.7e-9)\n",
    "asu = ufloat(11.5e-6, 1.2e-6)\n",
    "dau = ufloat(0, 0.58e-6)\n",
    "dthetau = ufloat(0, 0.029)\n",
    "thetau = ufloat(-0.1, 0.41)"
   ]
  },
  {
   "cell_type": "code",
   "execution_count": 39,
   "id": "9ede6719-74a8-48c8-bcee-23c355183972",
   "metadata": {},
   "outputs": [],
   "source": [
    "# calculate desired property\n",
    "lu = lSu + du - lSu*(dau*thetau + asu*dthetau)"
   ]
  },
  {
   "cell_type": "code",
   "execution_count": 40,
   "id": "67816cb1-2561-4172-bd3d-292b26bad0fa",
   "metadata": {},
   "outputs": [
    {
     "data": {
      "text/plain": [
       "0.050000838+/-3.171060964043185e-08"
      ]
     },
     "execution_count": 40,
     "metadata": {},
     "output_type": "execute_result"
    }
   ],
   "source": [
    "lu"
   ]
  },
  {
   "cell_type": "code",
   "execution_count": 41,
   "id": "f826dfb9-9ac2-4cae-96de-5ebd9fae0a75",
   "metadata": {},
   "outputs": [
    {
     "name": "stdout",
     "output_type": "stream",
     "text": [
      "l = (50.000838+/-0.000032) mm\n"
     ]
    }
   ],
   "source": [
    "print('l = ({:.2u}) mm'.format(lu*1e3))"
   ]
  },
  {
   "cell_type": "markdown",
   "id": "cdb3fe7b-ee9b-47c8-a586-65946e8d6260",
   "metadata": {},
   "source": [
    "Note, that we can use scipy to find uncertainty value, e.g., for the $t$ distribution in **H.1.3.2**:"
   ]
  },
  {
   "cell_type": "code",
   "execution_count": 42,
   "id": "c6b45f13-1986-4bf4-9d90-f6673a675862",
   "metadata": {},
   "outputs": [
    {
     "data": {
      "text/plain": [
       "np.float64(2.570581835636314)"
      ]
     },
     "execution_count": 42,
     "metadata": {},
     "output_type": "execute_result"
    }
   ],
   "source": [
    "# Find t_p(v) factor for t_95(v=5)\n",
    "p = 0.95\n",
    "n = 6\n",
    "v = n-1\n",
    "\n",
    "tp = st.t.ppf((1 + p)/2, df=v)\n",
    "tp"
   ]
  },
  {
   "cell_type": "code",
   "execution_count": 43,
   "id": "7c6a3f62-4bcb-41db-8a21-50283dcd6bf1",
   "metadata": {},
   "outputs": [
    {
     "name": "stdout",
     "output_type": "stream",
     "text": [
      "u(d1) = 0.01 µm/2.57 = 3.9 nm\n"
     ]
    }
   ],
   "source": [
    "print(f'u(d1) = {0.01} µm/{tp:.2f} = {0.01/tp*1e3:.1f} nm')"
   ]
  },
  {
   "cell_type": "markdown",
   "id": "d7ec1721-76bd-41d8-a16d-68f44b0f483e",
   "metadata": {},
   "source": [
    "We continue with finding a expanded uncertainty for $p=0.99$. This requires knowledge of the degrees of freedom."
   ]
  },
  {
   "cell_type": "code",
   "execution_count": 44,
   "id": "fb13f1fb-f20a-452f-a729-faa925e21576",
   "metadata": {},
   "outputs": [],
   "source": [
    "# Welch-Satterthwaite formula, uncorrelated\n",
    "def v_eff(u, v, return_int = True):\n",
    "    if return_int:\n",
    "        return int(np.floor(np.sum(u**2)**2/np.sum(u**4/v)))\n",
    "    else:\n",
    "        return np.sum(u**2)**2/np.sum(u**4/v)"
   ]
  },
  {
   "cell_type": "code",
   "execution_count": 45,
   "id": "6069d47d-c2e3-4ec6-9832-69c930371075",
   "metadata": {},
   "outputs": [],
   "source": [
    "#def v_Btype(unc_val):\n",
    "#    return 0.5*(unc_val.s/unc_val.n)**(-2)"
   ]
  },
  {
   "cell_type": "code",
   "execution_count": 46,
   "id": "a22a7aed-47dc-4927-87da-51c0373501dd",
   "metadata": {},
   "outputs": [],
   "source": [
    "d2 = np.array([5.8, 3.9, 6.7]) # standard uncertainties d, d1, d2\n",
    "v2 = np.array([24, 5, 8]) # degrees of freedom"
   ]
  },
  {
   "cell_type": "code",
   "execution_count": 47,
   "id": "cb8be605-85f3-4675-b886-d40f0efaea92",
   "metadata": {},
   "outputs": [
    {
     "data": {
      "text/plain": [
       "25"
      ]
     },
     "execution_count": 47,
     "metadata": {},
     "output_type": "execute_result"
    }
   ],
   "source": [
    "# Calculate effective degrees of freedom\n",
    "v_eff(d2, v2)"
   ]
  },
  {
   "cell_type": "code",
   "execution_count": 48,
   "id": "3feb5342-4085-49b4-8572-f8798c793324",
   "metadata": {},
   "outputs": [],
   "source": [
    "d3 = np.array([lSu.s, du.s, 2.9e-9, 16.6e-9]) # standard uncertainties\n",
    "v3 = np.array([18, v_eff(d2, v2), 50, 2]) # degrees of freedom"
   ]
  },
  {
   "cell_type": "code",
   "execution_count": 49,
   "id": "77c181ba-511f-405e-bbbf-34ea3eeda831",
   "metadata": {},
   "outputs": [
    {
     "data": {
      "text/plain": [
       "16"
      ]
     },
     "execution_count": 49,
     "metadata": {},
     "output_type": "execute_result"
    }
   ],
   "source": [
    "# Calculate effective degrees of freedom\n",
    "v_eff(d3, v3)"
   ]
  },
  {
   "cell_type": "code",
   "execution_count": 50,
   "id": "4743d78b-93d7-43d5-96da-8e3cb252bc43",
   "metadata": {},
   "outputs": [
    {
     "data": {
      "text/plain": [
       "np.float64(2.920781622496036)"
      ]
     },
     "execution_count": 50,
     "metadata": {},
     "output_type": "execute_result"
    }
   ],
   "source": [
    "p = 0.99\n",
    "df = v_eff(d3, v3)\n",
    "\n",
    "tp = st.t.ppf((1 + p)/2, df=df)\n",
    "tp"
   ]
  },
  {
   "cell_type": "code",
   "execution_count": 51,
   "id": "c0b81775-1df2-4a11-ba64-5e8a8dd36bbe",
   "metadata": {},
   "outputs": [],
   "source": [
    "lu_exp = ufloat(lu.n, lu.s*tp)"
   ]
  },
  {
   "cell_type": "code",
   "execution_count": 52,
   "id": "e3e86c90-2248-4ac4-a56b-b120b38a998b",
   "metadata": {},
   "outputs": [
    {
     "data": {
      "text/plain": [
       "0.050000838+/-9.261976587591897e-08"
      ]
     },
     "execution_count": 52,
     "metadata": {},
     "output_type": "execute_result"
    }
   ],
   "source": [
    "lu_exp"
   ]
  },
  {
   "cell_type": "markdown",
   "id": "1a7526bd-e012-485d-a863-5f6eb1b6ca35",
   "metadata": {},
   "source": [
    "We can report the final result as in the document, page 84:"
   ]
  },
  {
   "cell_type": "code",
   "execution_count": 53,
   "id": "958603db-85c2-4c1a-8e20-5a6646e536cb",
   "metadata": {},
   "outputs": [
    {
     "name": "stdout",
     "output_type": "stream",
     "text": [
      "l = (50.000838+/-0.000093) mm, \n",
      "where the number following the symbol ± is the numerical value of an expanded uncertainty U = k*uc, with U determined from a combined standard uncertainty uc = 32 nm and a coverage factor k = 2.92 based on the t-distribution for v = 16 degrees of freedom, and defines an interval estimated to have a level of confidence of 99.0 percent. The corresponding relative expanded uncertainty is U/l = 1.9*10^(-6)\n"
     ]
    }
   ],
   "source": [
    "print('l = ({:.2u}) mm, '.format(lu_exp*1e3))\n",
    "print(f'where the number following the symbol ± is the numerical value of \\\n",
    "an expanded uncertainty U = k*uc, with U determined from a combined standard \\\n",
    "uncertainty uc = {lu.s*1e9:.0f} nm and a coverage factor k = {tp:.2f} based on \\\n",
    "the t-distribution for v = {df:.0f} degrees of freedom, and defines \\\n",
    "an interval estimated to have a level of confidence of {p*100} percent. \\\n",
    "The corresponding relative expanded uncertainty is U/l = {lu_exp.s/lu.n*1e6:.1f}*10^(-6)')"
   ]
  },
  {
   "cell_type": "markdown",
   "id": "f45a377f-5ee7-4023-8182-93142bbe754a",
   "metadata": {},
   "source": [
    "### H.2\n",
    "[[Top](#Content)]  \n",
    "\n",
    "Example for **correlated** input variables.\n"
   ]
  },
  {
   "cell_type": "markdown",
   "id": "c0961c35-921d-45f9-8ec0-24b28b77fcf1",
   "metadata": {},
   "source": [
    "#### Approach 1: Average measurement values, then propagate uncertainties\n",
    "Let's start by writing down and calculating the values in **Table H.2**:"
   ]
  },
  {
   "cell_type": "code",
   "execution_count": 54,
   "id": "a7fbc2f1-00aa-4fca-adf7-d95cae3a6d14",
   "metadata": {},
   "outputs": [],
   "source": [
    "# Measurement values from Table H.2\n",
    "V = np.array([5.007, 4.994, 5.005, 4.990, 4.999])\n",
    "I = np.array([19.663, 19.639, 19.640, 19.685, 19.678])\n",
    "phi = np.array([1.0456, 1.0438, 1.0468, 1.0428, 1.0433])"
   ]
  },
  {
   "cell_type": "code",
   "execution_count": 55,
   "id": "58cd7729-2ab5-4258-9d8e-be717312edf6",
   "metadata": {},
   "outputs": [],
   "source": [
    "from uncertainties import ufloat"
   ]
  },
  {
   "cell_type": "code",
   "execution_count": 56,
   "id": "5d08e081-a773-480e-92eb-0c54ff2696a0",
   "metadata": {},
   "outputs": [],
   "source": [
    "# Type A uncertainties\n",
    "Vu = ufloat(np.mean(V), st.sem(V))\n",
    "Iu = ufloat(np.mean(I), st.sem(I))\n",
    "phiu = ufloat(np.mean(phi), st.sem(phi))"
   ]
  },
  {
   "cell_type": "code",
   "execution_count": 57,
   "id": "af6d4ae4-58ab-4b1e-9d26-1f3aa7379d08",
   "metadata": {},
   "outputs": [
    {
     "name": "stdout",
     "output_type": "stream",
     "text": [
      "V = (4.9990+/-0.0032) V\n",
      "I = (19.661+/-0.009) mA\n",
      "phi = (1.0445+/-0.0008) rad\n"
     ]
    }
   ],
   "source": [
    "print(f'V = ({format(Vu)}) V')\n",
    "print(f'I = ({format(Iu)}) mA')\n",
    "print(f'phi = ({format(phiu)}) rad')"
   ]
  },
  {
   "cell_type": "code",
   "execution_count": 58,
   "id": "8f65f212-8352-420b-b011-a6412322e7bd",
   "metadata": {},
   "outputs": [
    {
     "name": "stdout",
     "output_type": "stream",
     "text": [
      "r_VI: -0.36\n",
      "r_Vphi: 0.86\n",
      "r_Iphi: -0.65\n"
     ]
    }
   ],
   "source": [
    "# Correlation coefficients\n",
    "r_VI = st.pearsonr(V,I).statistic\n",
    "print(f'r_VI: {r_VI:.2f}')\n",
    "\n",
    "r_Vphi = st.pearsonr(V,phi).statistic\n",
    "print(f'r_Vphi: {r_Vphi:.2f}')\n",
    "\n",
    "r_Iphi = st.pearsonr(I,phi).statistic\n",
    "print(f'r_Iphi: {r_Iphi:.2f}')"
   ]
  },
  {
   "cell_type": "markdown",
   "id": "b35dd29b-cac7-4d37-8c71-6e9223bf0998",
   "metadata": {},
   "source": [
    "Alternatively provide the full correlation coefficient matrix using numpy"
   ]
  },
  {
   "cell_type": "code",
   "execution_count": 59,
   "id": "53e02736-a4ef-44d1-b178-b1387dc5a032",
   "metadata": {},
   "outputs": [
    {
     "data": {
      "text/plain": [
       "array([[ 1.        , -0.35531122,  0.85762421],\n",
       "       [-0.35531122,  1.        , -0.64511122],\n",
       "       [ 0.85762421, -0.64511122,  1.        ]])"
      ]
     },
     "execution_count": 59,
     "metadata": {},
     "output_type": "execute_result"
    }
   ],
   "source": [
    "# Alternatively provide the full correlation coefficient matrix using numpy\n",
    "np.corrcoef([V,I,phi])"
   ]
  },
  {
   "cell_type": "code",
   "execution_count": 60,
   "id": "a8e1cd1e-836b-4292-b3ef-9765ae488cf2",
   "metadata": {},
   "outputs": [],
   "source": [
    "# Note that this is not the same as the covariance matrix!\n",
    "#np.cov([V,I,phi])"
   ]
  },
  {
   "cell_type": "markdown",
   "id": "c1530ad1-2269-4ca6-b84d-85679e7404b0",
   "metadata": {},
   "source": [
    "If we **do not take care** of the correlation coefficients, we will assume no correlation and underestimate the combined uncertainty.  \n",
    "Here exemplary done for $Z = U/I$."
   ]
  },
  {
   "cell_type": "code",
   "execution_count": 61,
   "id": "78c46b06-e4bb-4c6a-95e7-78e40a88e03b",
   "metadata": {},
   "outputs": [],
   "source": [
    "from uncertainties.umath import * "
   ]
  },
  {
   "cell_type": "code",
   "execution_count": 62,
   "id": "2d1ca2c5-3b22-4b54-b96c-e1cc01023c79",
   "metadata": {},
   "outputs": [],
   "source": [
    "Zu = Vu/Iu * 1e3 # in Ohms"
   ]
  },
  {
   "cell_type": "code",
   "execution_count": 63,
   "id": "2354ec25-b861-42c6-abf1-7b64efc516fe",
   "metadata": {},
   "outputs": [
    {
     "name": "stdout",
     "output_type": "stream",
     "text": [
      "Z = (254.260+/-0.204) Ohm (uncorrelated case)\n"
     ]
    }
   ],
   "source": [
    "print('Z = ({:.3u}) Ohm (uncorrelated case)'.format(Zu))"
   ]
  },
  {
   "cell_type": "markdown",
   "id": "f53a2cce-5a66-4d22-9568-2f15bf73ad87",
   "metadata": {},
   "source": [
    "This is the case for the values shown in **Table H.5**."
   ]
  },
  {
   "cell_type": "markdown",
   "id": "4e1aba5c-7c8b-42b0-b549-520c723db839",
   "metadata": {},
   "source": [
    "We instead want to use the correlation coefficients above (`pearsonr`) to get the combined uncertainty for the correlated case.  \n",
    "Here is the *manual* way for Z:"
   ]
  },
  {
   "cell_type": "code",
   "execution_count": 64,
   "id": "9abbbfa7-1348-472c-ac5c-37efd32932b7",
   "metadata": {},
   "outputs": [
    {
     "data": {
      "text/plain": [
       "np.float64(0.000929506832076323)"
      ]
     },
     "execution_count": 64,
     "metadata": {},
     "output_type": "execute_result"
    }
   ],
   "source": [
    "# Manual calculation according to equation H.8c\n",
    "# relative uncertainty\n",
    "Z_u_rel = np.sqrt( (Vu.s/Vu.n)**2 + (Iu.s/Iu.n)**2 - 2*(Vu.s/Vu.n)*(Iu.s/Iu.n)*r_VI)\n",
    "Z_u_rel"
   ]
  },
  {
   "cell_type": "code",
   "execution_count": 65,
   "id": "bc5ad24c-03cb-48f9-b108-fe700c3766e0",
   "metadata": {},
   "outputs": [],
   "source": [
    "Z_u = Z_u_rel*Zu.n"
   ]
  },
  {
   "cell_type": "code",
   "execution_count": 66,
   "id": "b9f2d692-5426-482c-a2d7-f4387cd87f48",
   "metadata": {},
   "outputs": [
    {
     "data": {
      "text/plain": [
       "np.float64(0.23633613008237322)"
      ]
     },
     "execution_count": 66,
     "metadata": {},
     "output_type": "execute_result"
    }
   ],
   "source": [
    "Z_u"
   ]
  },
  {
   "cell_type": "code",
   "execution_count": 67,
   "id": "69e22c3f-41ec-4732-b9b3-d73ba1a4d703",
   "metadata": {},
   "outputs": [],
   "source": [
    "Zu = ufloat(Zu.n, Z_u)"
   ]
  },
  {
   "cell_type": "code",
   "execution_count": 68,
   "id": "7ce15955-062a-457a-b3f1-8ddc6538683f",
   "metadata": {},
   "outputs": [
    {
     "name": "stdout",
     "output_type": "stream",
     "text": [
      "Zu = (254.260+/-0.236) Ohm\n"
     ]
    }
   ],
   "source": [
    "print('Zu = ({:.3u}) Ohm'.format(Zu))"
   ]
  },
  {
   "cell_type": "markdown",
   "id": "42d5736e-7b5f-4832-96b7-d6f33865a634",
   "metadata": {},
   "source": [
    "Note, that the combined uncertainty increased from 0.204 (uncorrelated) to 0.236 (correlated)."
   ]
  },
  {
   "cell_type": "markdown",
   "id": "860f2de9-eae5-4534-bb9c-4625338b047c",
   "metadata": {},
   "source": [
    "Since manual calculation is tedious, we can let the `uncertainties` package handle the calculations.  \n",
    "We only need the input values as numpy arrays and define all properties using `uncertainties.correlated_values_norm`:"
   ]
  },
  {
   "cell_type": "code",
   "execution_count": 69,
   "id": "998e7470-8abe-4678-a7b7-3115b9048dcb",
   "metadata": {},
   "outputs": [],
   "source": [
    "import uncertainties"
   ]
  },
  {
   "cell_type": "code",
   "execution_count": 70,
   "id": "5e80526a-1c3c-4a16-a8b0-9b84c27455e5",
   "metadata": {},
   "outputs": [],
   "source": [
    "# Define as correlated variables\n",
    "Vu, Iu, phiu = uncertainties.correlated_values_norm(\n",
    "    [(np.mean(V), st.sem(V)), # define as value and uncertainties\n",
    "     (np.mean(I), st.sem(I)), \n",
    "     (np.mean(phi), st.sem(phi))],\n",
    "     np.corrcoef([V, I, phi]) # correlation coefficient matrix for correlated variables\n",
    ")"
   ]
  },
  {
   "cell_type": "code",
   "execution_count": 71,
   "id": "8c7c0dca-3f6d-45fb-b3b1-63231f9c6ee2",
   "metadata": {},
   "outputs": [
    {
     "name": "stdout",
     "output_type": "stream",
     "text": [
      "V = (4.9990+/-0.0032) V\n",
      "I = (19.661+/-0.009) mA\n",
      "phi = (1.0445+/-0.0008) rad\n"
     ]
    }
   ],
   "source": [
    "# These are the same as before\n",
    "print(f'V = ({format(Vu)}) V')\n",
    "print(f'I = ({format(Iu)}) mA')\n",
    "print(f'phi = ({format(phiu)}) rad')"
   ]
  },
  {
   "cell_type": "markdown",
   "id": "1dc810bb-07e4-486d-ad95-1dc866ed7c52",
   "metadata": {},
   "source": [
    "As we defined the correlation coefficients among $V$, $I$, and $\\phi$ we can simply calculate $R$, $X$, and $Z$:"
   ]
  },
  {
   "cell_type": "code",
   "execution_count": 72,
   "id": "52188cae-ac39-4405-853d-e2f6ff7187e3",
   "metadata": {},
   "outputs": [],
   "source": [
    "# Calculate R, X, and Z\n",
    "Ru = Vu/Iu*cos(phiu)*1e3\n",
    "Xu = Vu/Iu*sin(phiu)*1e3\n",
    "Zu = Vu/Iu*1e3"
   ]
  },
  {
   "cell_type": "code",
   "execution_count": 73,
   "id": "1cfaac5f-fa68-4ed9-826e-b9e30949694a",
   "metadata": {},
   "outputs": [
    {
     "name": "stdout",
     "output_type": "stream",
     "text": [
      "R = (127.732+/-0.071) Ohm\n",
      "X = (219.847+/-0.296) Ohm\n",
      "Z = (254.260+/-0.236) Ohm\n"
     ]
    }
   ],
   "source": [
    "# Print out values to compare with Table H.3\n",
    "print('R = ({:.2u}) Ohm'.format(Ru))\n",
    "print('X = ({:.3u}) Ohm'.format(Xu))\n",
    "print('Z = ({:.3u}) Ohm'.format(Zu))"
   ]
  },
  {
   "cell_type": "markdown",
   "id": "0ea88a33-a6b7-4366-8ef1-20c3a385ada5",
   "metadata": {},
   "source": [
    "Note that these are the same combined uncertainties as shown in the [GUM PDF](https://doi.org/10.59161/JCGM100-2008E) **Table H.3**."
   ]
  },
  {
   "cell_type": "markdown",
   "id": "9aed1a48-eebb-4cac-91ab-dfc3fca78428",
   "metadata": {},
   "source": [
    "#### Approach 2: Calculate desired property from each set of measurements, average at the end\n",
    "Let's start by writing down and calculating the values in **Table H.4**:"
   ]
  },
  {
   "cell_type": "code",
   "execution_count": 74,
   "id": "5324aaef-d30b-4af4-a7e9-3b34582d647f",
   "metadata": {},
   "outputs": [],
   "source": [
    "# Measurement values from Table H.2\n",
    "V = np.array([5.007, 4.994, 5.005, 4.990, 4.999])\n",
    "I = np.array([19.663, 19.639, 19.640, 19.685, 19.678])\n",
    "phi = np.array([1.0456, 1.0438, 1.0468, 1.0428, 1.0433])\n",
    "\n",
    "# Arrays with calculated values for R, X, and Z\n",
    "R = V/I * np.cos(phi)\n",
    "X = V/I * np.sin(phi)\n",
    "Z = V/I"
   ]
  },
  {
   "cell_type": "markdown",
   "id": "5f9be6aa-fafe-4157-a2b7-d3d744345bc6",
   "metadata": {},
   "source": [
    "Note that R, X, and Z are arrays, e.g., R:"
   ]
  },
  {
   "cell_type": "code",
   "execution_count": 75,
   "id": "4f9565e2-58ac-4ae8-8fb0-64e116d1c9c7",
   "metadata": {},
   "outputs": [
    {
     "data": {
      "text/plain": [
       "array([0.12767249, 0.12789245, 0.12750626, 0.12771042, 0.12787654])"
      ]
     },
     "execution_count": 75,
     "metadata": {},
     "output_type": "execute_result"
    }
   ],
   "source": [
    "R"
   ]
  },
  {
   "cell_type": "markdown",
   "id": "e76b7372-db80-40db-99e3-43bc6c6aa33b",
   "metadata": {},
   "source": [
    "We can now calculate the mean and standard deviation of the mean as usual.  \n",
    "We define them here as uncertainty ufloat for convenience and display, but we do not need to perform any further calculation:"
   ]
  },
  {
   "cell_type": "code",
   "execution_count": 76,
   "id": "0e7ef971-5766-44ee-93c6-a350c28455d5",
   "metadata": {},
   "outputs": [],
   "source": [
    "# Type A uncertainties\n",
    "Ru = ufloat(np.mean(R), st.sem(R))\n",
    "Xu = ufloat(np.mean(X), st.sem(X))\n",
    "Zu = ufloat(np.mean(Z), st.sem(Z))"
   ]
  },
  {
   "cell_type": "code",
   "execution_count": 77,
   "id": "70b79a98-60fc-47f0-893c-4e0a3d3e6119",
   "metadata": {},
   "outputs": [
    {
     "name": "stdout",
     "output_type": "stream",
     "text": [
      "R = (0.127732+/-0.000071) Ohm\n",
      "X = (0.219847+/-0.000295) Ohm\n",
      "Z = (0.254260+/-0.000236) Ohm\n"
     ]
    }
   ],
   "source": [
    "# Print out values to compare with Table H.3\n",
    "print('R = ({:.2u}) Ohm'.format(Ru))\n",
    "print('X = ({:.3u}) Ohm'.format(Xu))\n",
    "print('Z = ({:.3u}) Ohm'.format(Zu))"
   ]
  },
  {
   "cell_type": "markdown",
   "id": "5de3e3cd-fe83-4f7c-a97d-29d00c4e29e2",
   "metadata": {},
   "source": [
    "Note that these values are the same as the ones from combined uncertainty measurement with correlated input variables $V$, $I$, and $\\phi$.  \n",
    "As described in **H.2.4**, this only works for a **linear relationship** for $R(V,I,\\phi)$, $X(V,I,\\phi)$, and/or $Z(V,I,\\phi)$.  \n",
    "Also, this requires that we have the same number of individual measurements for $V$, $U$, and $\\phi$."
   ]
  },
  {
   "cell_type": "markdown",
   "id": "68eb6328-d351-4caf-955d-87e1d4a63c3c",
   "metadata": {},
   "source": [
    "### Export\n",
    "[[Top](#Content)]  \n"
   ]
  },
  {
   "cell_type": "code",
   "execution_count": 78,
   "id": "65453e8e-31e2-4bfc-8810-13b885e9d6a8",
   "metadata": {},
   "outputs": [],
   "source": [
    "# Export environment to\n",
    "!mamba env export > environment.yml\n",
    "# Create via: mamba env create -f environment.yml"
   ]
  },
  {
   "cell_type": "code",
   "execution_count": 79,
   "id": "41b80173-5012-4186-94c2-f03865addd29",
   "metadata": {},
   "outputs": [
    {
     "name": "stderr",
     "output_type": "stream",
     "text": [
      "[NbConvertApp] Converting notebook gum-uncertainty-calculation-python.ipynb to html\n",
      "[NbConvertApp] Writing 417642 bytes to gum-uncertainty-calculation-python.html\n"
     ]
    }
   ],
   "source": [
    "# Export notebook to html for quick inspection in a browser.\n",
    "# https://nbconvert.readthedocs.io/en/latest/usage.html\n",
    "!jupyter nbconvert --to html --theme light gum-uncertainty-calculation-python.ipynb"
   ]
  },
  {
   "cell_type": "markdown",
   "id": "45ebc26f-46f7-46bc-b466-811d8259f653",
   "metadata": {},
   "source": [
    "### Markdown Snippets\n",
    "[[Top](#Content)]  \n",
    "[Source](https://medium.com/analytics-vidhya/the-ultimate-markdown-guide-for-jupyter-notebook-d5e5abf728fd)\n",
    "\n",
    "General:  \n",
    "`variable` **bold** *italics* ***Bold'italic*** ~~strikethrough~~ [Link](https://en.wikipedia.org)  \n",
    "> Blockquote\n",
    "***\n",
    "\n",
    "Latex formulas (`mhchem` is also supported. see [list](https://docs.mathjax.org/en/latest/input/tex/extensions/index.html)):  \n",
    "$\\textrm{e}^{i\\uppi}=-1$  \n",
    "$\\ce{YBa2Cu3O_{7-\\delta}}$\n",
    "\n",
    "List:\n",
    "1. One\n",
    "2. Two\n",
    "3. Three\n",
    "\n",
    "Unordered list:\n",
    "- One\n",
    "- Two\n",
    "- Three\n",
    "\n",
    "Task list:\n",
    "- [x] Some task\n",
    "- [ ] Todo\n",
    "\n",
    "Codeblock:\n",
    "```python\n",
    "import numpy as np\n",
    "```\n",
    "\n",
    "Colors:  \n",
    "<span style=\"color:blue\">Blue</span>\n",
    "<span style=\"color:red\">Red</span>\n",
    "<span style=\"color:green\">Green</span>\n",
    "<span style=\"color:magenta\">Magenta</span>\n",
    "<span style=\"color:#20B2AA\">Hex: #20B2AA</span>\n",
    "\n",
    "Fonts:  \n",
    "<span style=\"font-family:Comic Sans MS\">Comic Sans</span>\n",
    "\n",
    "Boxes:  \n",
    "<div class=\"alert alert-block alert-info\"><b>Tip:</b> Use blue boxes (alert-info) for tips and notes.</div>\n",
    "<div class=\"alert alert-block alert-warning\"><b>Example:</b> Use yellow boxes for examples that are not inside code cells. or use for mathematical formulas if needed. Typically also used to display warning messages.</div>\n",
    "<div class=\"alert alert-block alert-success\"><b>Success:</b> This alert box indicates a successful or positive action.</div>\n",
    "<div class=\"alert alert-block alert-danger\"><b>Danger:</b> This alert box indicates a dangerous or potentially negative action.</div>"
   ]
  },
  {
   "cell_type": "code",
   "execution_count": null,
   "id": "14813dd1-58b4-4a69-81d1-edbb951a20f6",
   "metadata": {},
   "outputs": [],
   "source": []
  }
 ],
 "metadata": {
  "kernelspec": {
   "display_name": "Python 3 (ipykernel)",
   "language": "python",
   "name": "python3"
  },
  "language_info": {
   "codemirror_mode": {
    "name": "ipython",
    "version": 3
   },
   "file_extension": ".py",
   "mimetype": "text/x-python",
   "name": "python",
   "nbconvert_exporter": "python",
   "pygments_lexer": "ipython3",
   "version": "3.12.7"
  }
 },
 "nbformat": 4,
 "nbformat_minor": 5
}
